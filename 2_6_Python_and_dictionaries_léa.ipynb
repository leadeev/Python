{
  "nbformat": 4,
  "nbformat_minor": 0,
  "metadata": {
    "colab": {
      "provenance": [],
      "include_colab_link": true
    },
    "kernelspec": {
      "name": "python3",
      "display_name": "Python 3"
    }
  },
  "cells": [
    {
      "cell_type": "markdown",
      "metadata": {
        "id": "view-in-github",
        "colab_type": "text"
      },
      "source": [
        "<a href=\"https://colab.research.google.com/github/leadeev/Python/blob/main/2_6_Python_and_dictionaries_l%C3%A9a.ipynb\" target=\"_parent\"><img src=\"https://colab.research.google.com/assets/colab-badge.svg\" alt=\"Open In Colab\"/></a>"
      ]
    },
    {
      "cell_type": "markdown",
      "metadata": {
        "id": "LoJw-LlCTnWF"
      },
      "source": [
        "# Mission 1\n",
        "\n",
        "Below is a dictionary containing the number of French campuses that offer each kind of Wild Code School course.\n",
        "\n",
        "wildcodeschool = {\n",
        "   \"data_analyst\": 4,\n",
        "   \"data_scientist\": 2,\n",
        "   \"dev_web\": \"13\" \n",
        "}\n",
        "\n",
        "Find a way to only display the keys that have int values."
      ]
    },
    {
      "cell_type": "code",
      "metadata": {
        "id": "C2Lk113KSPUO",
        "colab": {
          "base_uri": "https://localhost:8080/"
        },
        "outputId": "8f8ebbdd-1723-4dc6-954c-f65437af9aae"
      },
      "source": [
        "#Vous trouverez ci-dessous un dictionnaire contenant le nombre de campus français \n",
        "#qui proposent chaque type de cours de la Wild Code School.\n",
        "#wildcodeschool = { \"data_analyst\" : 4, \"data_scientist\" : 2, \"dev_web\" : \"13\" }\n",
        "#Trouvez un moyen d'afficher uniquement les clés qui ont des valeurs int.\n",
        "#JSON ( Java Script Objet Nottaison) est un format de données utilisé pour représenter des données structurées\n",
        "\n",
        "import json\n",
        "wildcodeschool =\t{\n",
        "  \"data_analyst\": 4,\n",
        "  \"data_scientist\": 2,\n",
        "  \"dev_web\": \"13\"\n",
        "}\n",
        "\n",
        "for metier in wildcodeschool:\n",
        "  if type(wildcodeschool[metier]) == int:\n",
        "    print(wildcodeschool[metier])\n"
      ],
      "execution_count": 2,
      "outputs": [
        {
          "output_type": "stream",
          "name": "stdout",
          "text": [
            "4\n",
            "2\n"
          ]
        }
      ]
    },
    {
      "cell_type": "markdown",
      "metadata": {
        "id": "J3bsGIvAT049"
      },
      "source": [
        "# Mission 2\n",
        "\n",
        "For the same dictionary, find a way to display all the values that have a key that contains the letter \"e\"."
      ]
    },
    {
      "cell_type": "code",
      "metadata": {
        "id": "Fy1OmPSUXNaP",
        "colab": {
          "base_uri": "https://localhost:8080/"
        },
        "outputId": "51218603-3a22-46d7-8eba-8db35973bba0"
      },
      "source": [
        "#Pour le même dictionnaire, trouvez un moyen d'afficher toutes les valeurs dont la clé contient la lettre \"e\".\n",
        "\n",
        "wildcodeschool =\t{\n",
        "  \"data_analyst\": 4,\n",
        "  \"data_scientist\": 2,\n",
        "  \"dev_web\": \"13\"\n",
        "}\n",
        "for metier in wildcodeschool:\n",
        "  for letter in metier:\n",
        "    # if letter == \"e\": OU\n",
        "    if letter.find(\"e\") >= 0:\n",
        "      print(metier)\n",
        "      break"
      ],
      "execution_count": 4,
      "outputs": [
        {
          "output_type": "stream",
          "name": "stdout",
          "text": [
            "data_scientist\n",
            "dev_web\n"
          ]
        }
      ]
    },
    {
      "cell_type": "markdown",
      "metadata": {
        "id": "dVl36lvlWLdV"
      },
      "source": [
        "# Mission 3\n",
        "\n",
        "Within the same dictionary, change the type of the value of the \"dev_web\" key to be an int. Then add a new key-value pair which will be \"total_campus\" : 19, using a **dictionary method**."
      ]
    },
    {
      "cell_type": "code",
      "metadata": {
        "id": "pN3_mD4YSPfb",
        "colab": {
          "base_uri": "https://localhost:8080/"
        },
        "outputId": "816af153-bf9b-42f4-e7d6-6f031af36dfb"
      },
      "source": [
        "#Dans le même dictionnaire, modifiez le type de la valeur de la clé \"dev_web\" pour qu'elle soit un int. \n",
        "#Ajoutez ensuite une nouvelle paire clé-valeur qui sera \"total_campus\" : 19, en utilisant une méthode de dictionnaire.\n",
        "\n",
        "wildcodeschool =\t{\n",
        "  \"data_analyst\": 4,\n",
        "  \"data_scientist\": 2,\n",
        "  \"dev_web\": \"13\"\n",
        "}\n",
        "wildcodeschool[\"total_campus\"] = 19\n",
        "wildcodeschool[\"dev_web\"] = int(wildcodeschool[\"dev_web\"])\n",
        "print(wildcodeschool)"
      ],
      "execution_count": 5,
      "outputs": [
        {
          "output_type": "stream",
          "name": "stdout",
          "text": [
            "{'data_analyst': 4, 'data_scientist': 2, 'dev_web': 13, 'total_campus': 19}\n"
          ]
        }
      ]
    },
    {
      "cell_type": "markdown",
      "metadata": {
        "id": "GCvpkWzXXPTf"
      },
      "source": [
        "# Mission 4\n",
        "\n",
        "Take the dictionary generated from mission 3. Delete the key value pair :\n",
        "- 'dev_web': 13 using a method\n",
        "- 'total_campus': 19 using another method"
      ]
    },
    {
      "cell_type": "code",
      "metadata": {
        "id": "QjLMjogySPk_",
        "colab": {
          "base_uri": "https://localhost:8080/"
        },
        "outputId": "ac310b40-18af-45eb-eaaf-b3686dddac99"
      },
      "source": [
        "#Prenez le dictionnaire généré par la mission 3. Supprimez la paire clé-valeur :\n",
        "#'dev_web' : 13 en utilisant une méthode\n",
        "#'total_campus' : 19 en utilisant une autre méthode\n",
        "\n",
        "wildcodeschool = {\n",
        "    'data_analyst': 4,\n",
        "    'data_scientist': 2,\n",
        "    'dev_web': 13,\n",
        "    'total_campus': 19\n",
        "}\n",
        "wildcodeschool.pop(\"dev_web\")\n",
        "del wildcodeschool[\"total_campus\"]\n",
        "print(wildcodeschool)"
      ],
      "execution_count": 6,
      "outputs": [
        {
          "output_type": "stream",
          "name": "stdout",
          "text": [
            "{'data_analyst': 4, 'data_scientist': 2}\n"
          ]
        }
      ]
    },
    {
      "cell_type": "markdown",
      "metadata": {
        "id": "V8ZS3aECXvuZ"
      },
      "source": [
        "# Mission 5\n",
        "\n",
        "Still within the dictionary generated from Mission 3, find a way to display the dictionary keys in alphabetical order."
      ]
    },
    {
      "cell_type": "code",
      "metadata": {
        "id": "ph_j97PoSPmU",
        "colab": {
          "base_uri": "https://localhost:8080/"
        },
        "outputId": "d4281316-196e-4487-897c-5e5edeb77a1d"
      },
      "source": [
        "#Toujours dans le dictionnaire généré par la mission 3, \n",
        "#trouvez un moyen d'afficher les clés du dictionnaire par ordre alphabétique.\n",
        "\n",
        "wildcodeschool = {\n",
        "    'total_campus': 19,\n",
        "    'data_analyst': 4,\n",
        "     'dev_web': 13,\n",
        "    'data_scientist': 2\n",
        "}\n",
        "print(sorted(wildcodeschool))"
      ],
      "execution_count": 7,
      "outputs": [
        {
          "output_type": "stream",
          "name": "stdout",
          "text": [
            "['data_analyst', 'data_scientist', 'dev_web', 'total_campus']\n"
          ]
        }
      ]
    },
    {
      "cell_type": "markdown",
      "metadata": {
        "id": "geMLdrvAYHKx"
      },
      "source": [
        "# Mission 6\n",
        "\n",
        "Create a script that returns the same elements as the **values()** method, as a list.\n",
        "\n",
        "Example: for `{'a': 1, 'b': 2, 'c': 3}` it will create `[1, 2, 3]`"
      ]
    },
    {
      "cell_type": "code",
      "metadata": {
        "id": "1-cenx3RSPpq"
      },
      "source": [
        "#Créez un script qui renvoie les mêmes éléments que la méthode values(), sous forme de liste.\n",
        "#Exemple : pour {'a' : 1, 'b' : 2, 'c' : 3}, il créera [1, 2, 3].\n",
        "\n",
        "my_object = {'a': 1, 'b': 2, 'c': 3}\n",
        "list = []\n",
        "for i in my_object:\n",
        "  list.append(my_object[i])\n",
        "\n",
        "print(list)"
      ],
      "execution_count": null,
      "outputs": []
    }
  ]
}