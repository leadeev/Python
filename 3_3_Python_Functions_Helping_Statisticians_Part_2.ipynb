{
  "nbformat": 4,
  "nbformat_minor": 0,
  "metadata": {
    "colab": {
      "provenance": [],
      "include_colab_link": true
    },
    "kernelspec": {
      "name": "python3",
      "display_name": "Python 3"
    }
  },
  "cells": [
    {
      "cell_type": "markdown",
      "metadata": {
        "id": "view-in-github",
        "colab_type": "text"
      },
      "source": [
        "<a href=\"https://colab.research.google.com/github/leadeev/Python/blob/main/3_3_Python_Functions_Helping_Statisticians_Part_2.ipynb\" target=\"_parent\"><img src=\"https://colab.research.google.com/assets/colab-badge.svg\" alt=\"Open In Colab\"/></a>"
      ]
    },
    {
      "cell_type": "markdown",
      "metadata": {
        "id": "co2X9cGIieV0"
      },
      "source": [
        "# Help for statisticians!\n",
        "\n",
        "Your fellow statisticians need you. They want to learn how to program in Python and have tons of calculations to do.\n",
        "\n",
        "Very kindly, you agree to help them. Complete the missions below."
      ]
    },
    {
      "cell_type": "markdown",
      "metadata": {
        "id": "CLFkEk_Fm9d4"
      },
      "source": [
        "## Your colleagues are impressed. So they show you some more exercises that they're stuck on. Code your heart out, you go for it ^^"
      ]
    },
    {
      "cell_type": "code",
      "metadata": {
        "id": "pIoUqiKynBbe",
        "colab": {
          "base_uri": "https://localhost:8080/",
          "height": 35
        },
        "outputId": "d75df793-480f-468f-c3df-fa2387dc68ca"
      },
      "source": [
        "# Mission 9: Create a function that takes a day as a parameter and returns the next day (i.e. for Sunday it would return Monday). \n",
        "# You can use lists or dictionaries to solve this.\n",
        "\n",
        "def tomorrow(day):\n",
        "  week = ['lundi','mardi','mercredi','jeudi','vendredi','samedi','dimanche']\n",
        "  if week.index(day) < 6 :\n",
        "    x = week.index(day) + 1\n",
        "  elif week.index(day) == 6:\n",
        "    x = 0\n",
        "  return week[x]\n",
        "\n",
        "tomorrow('dimanche')\n"
      ],
      "execution_count": null,
      "outputs": [
        {
          "output_type": "execute_result",
          "data": {
            "text/plain": [
              "'lundi'"
            ],
            "application/vnd.google.colaboratory.intrinsic+json": {
              "type": "string"
            }
          },
          "metadata": {},
          "execution_count": 10
        }
      ]
    },
    {
      "cell_type": "code",
      "source": [
        "def tomorrow(day):\n",
        "  week = ['lundi','mardi','mercredi','jeudi','vendredi','samedi','dimanche']\n",
        "  if week.index(day) < 6 :\n",
        "    x = week.index(day) + 1\n",
        "  elif week.index(day) == 6:\n",
        "    x = 0\n",
        "  return week[x]\n",
        "\n",
        "tomorrow('vendredi')"
      ],
      "metadata": {
        "colab": {
          "base_uri": "https://localhost:8080/",
          "height": 35
        },
        "id": "OLgiA_q-JJNw",
        "outputId": "90b87716-382c-4960-c7de-9fdb1ca9ced1"
      },
      "execution_count": null,
      "outputs": [
        {
          "output_type": "execute_result",
          "data": {
            "text/plain": [
              "'samedi'"
            ],
            "application/vnd.google.colaboratory.intrinsic+json": {
              "type": "string"
            }
          },
          "metadata": {},
          "execution_count": 1
        }
      ]
    },
    {
      "cell_type": "code",
      "source": [
        "def tomorrow(day):\n",
        "  week = ['lundi','mardi','mercredi','jeudi','vendredi','samedi','dimanche']\n",
        "  for pos,val in enumerate(week):\n",
        "    if day[pos]<6:\n",
        "      day[pos]=week[pos]+1\n",
        "    elif day[pos]==6:\n",
        "      day[pos]=week[0]\n",
        "  return week[day[pos]]\n",
        "\n",
        "tomorrow('vendredi')"
      ],
      "metadata": {
        "id": "8My-jvc6Kbak"
      },
      "execution_count": null,
      "outputs": []
    },
    {
      "cell_type": "code",
      "source": [
        "x=input(\"donnez un jour \")\n",
        "week = ['lundi','mardi','mercredi','jeudi','vendredi','samedi','dimanche']\n",
        "for pos,val in enumerate(week):\n",
        "  if x==val:\n",
        "    print(week[pos+1])\n",
        "  if x==week[len(week)-1]:\n",
        "    print(week[0])\n",
        "print(len(week))"
      ],
      "metadata": {
        "id": "CHmGMCIC0pkH"
      },
      "execution_count": null,
      "outputs": []
    },
    {
      "cell_type": "code",
      "metadata": {
        "id": "68rX-Y0AnGiR",
        "colab": {
          "base_uri": "https://localhost:8080/"
        },
        "outputId": "fc00918e-1a37-4c33-c649-53e535369306"
      },
      "source": [
        "# Mission 10: Create a function that fills an empty list with values (words) from the following string : \n",
        "# \"After twelve soft showers are the arch-duchess' socks dry, arch-dry?\"\n",
        "\n",
        "\n",
        "def words(mystring):\n",
        "  return [i for i in mystring.rsplit(\" \")]\n",
        "\n",
        "words (\"After twelve soft showers are the arch-duchess' socks dry, arch-dry?\")\n"
      ],
      "execution_count": null,
      "outputs": [
        {
          "output_type": "execute_result",
          "data": {
            "text/plain": [
              "['After',\n",
              " 'twelve',\n",
              " 'soft',\n",
              " 'showers',\n",
              " 'are',\n",
              " 'the',\n",
              " \"arch-duchess'\",\n",
              " 'socks',\n",
              " 'dry,',\n",
              " 'arch-dry?']"
            ]
          },
          "metadata": {},
          "execution_count": 2
        }
      ]
    },
    {
      "cell_type": "code",
      "source": [
        "# Mission 11: Create a function that takes a str as a parameter, and returns the same string, where every other letter\n",
        "# is written in uppercase, unless it's a consonant.\n",
        "\n",
        "\n",
        "def my_funct(a_string):\n",
        "\n",
        "  a_string = a_string.lower()\n",
        "  a_list = []\n",
        "\n",
        "  for index, element in enumerate(a_string):\n",
        "    if index % 2 == 0 and element in \"aeiouy\":\n",
        "      a_list.append(element.upper())\n",
        "    else:\n",
        "      a_list.append(element)\n",
        "\n",
        "  return \"\".join(a_list)\n",
        "\n",
        "my_funct('Bonjour Comment ça va?')"
      ],
      "metadata": {
        "colab": {
          "base_uri": "https://localhost:8080/",
          "height": 35
        },
        "id": "G1AXEL6lCEfe",
        "outputId": "b03c78cd-18e8-462c-88d9-2f330a5110c0"
      },
      "execution_count": null,
      "outputs": [
        {
          "output_type": "execute_result",
          "data": {
            "text/plain": [
              "'bonjOur commEnt ça vA?'"
            ],
            "application/vnd.google.colaboratory.intrinsic+json": {
              "type": "string"
            }
          },
          "metadata": {},
          "execution_count": 3
        }
      ]
    },
    {
      "cell_type": "code",
      "metadata": {
        "id": "IJCr_jvwnOCh",
        "colab": {
          "base_uri": "https://localhost:8080/"
        },
        "outputId": "90a0484d-17a5-46bd-b36d-d99079f1d838"
      },
      "source": [
        "# Mission 12: Create a function that takes a number n as parameter, and then returns a list containing n lists, each containing n empty lists. \n",
        "\n",
        "def create_lists(number_list):\n",
        "    final_list = []\n",
        "    intermediate_list = []\n",
        "    for i in range(number_list):\n",
        "        intermediate_list.append([])\n",
        "    for i in range(number_list):\n",
        "        final_list.append(intermediate_list)\n",
        "    return final_list\n",
        "\n",
        "create_lists(3)"
      ],
      "execution_count": null,
      "outputs": [
        {
          "output_type": "execute_result",
          "data": {
            "text/plain": [
              "[[[], [], []], [[], [], []], [[], [], []]]"
            ]
          },
          "metadata": {},
          "execution_count": 7
        }
      ]
    },
    {
      "cell_type": "code",
      "metadata": {
        "id": "xjYGsODEnSb2",
        "colab": {
          "base_uri": "https://localhost:8080/"
        },
        "outputId": "b40dc466-75e5-40c2-c9b3-45b4acef8d41"
      },
      "source": [
        "# Mission 13: Create a function that takes two inputs, their year of birth and first name.\n",
        "# Convert the year of birth into an int and subtract it from the current year (you can do it using a certain module :-P).\n",
        "# Then display the message: Hello [first name], today you are (or you will be this year) [age] years old.\n",
        "# When testing the function, ask the user for the parameters!\n",
        "\n",
        "# You could use for example : year_current = 2022\n",
        "from datetime import date\n",
        "year_current = date.today().year\n",
        "\n",
        "def age():\n",
        "  year_birth = int(input('Year of birth : '))\n",
        "  firstn = input('Firstname : ')\n",
        "  return print ('Hello', firstn, 'today you are (or you will be this year)', (year_current - year_birth), 'years old.')\n",
        "\n",
        "age()"
      ],
      "execution_count": null,
      "outputs": [
        {
          "output_type": "stream",
          "name": "stdout",
          "text": [
            "Year of birth : 1991\n",
            "Firstname : Nico\n",
            "Hello Nico today you are (or you will be this year) 31 years old.\n"
          ]
        }
      ]
    },
    {
      "cell_type": "code",
      "source": [],
      "metadata": {
        "id": "cTXRab5pasV3"
      },
      "execution_count": null,
      "outputs": []
    }
  ]
}