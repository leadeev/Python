{
  "nbformat": 4,
  "nbformat_minor": 0,
  "metadata": {
    "colab": {
      "provenance": [],
      "include_colab_link": true
    },
    "kernelspec": {
      "name": "python3",
      "display_name": "Python 3"
    }
  },
  "cells": [
    {
      "cell_type": "markdown",
      "metadata": {
        "id": "view-in-github",
        "colab_type": "text"
      },
      "source": [
        "<a href=\"https://colab.research.google.com/github/leadeev/Python/blob/main/3_4_Python_Functions_Helping_Statisticians_Part_3.ipynb\" target=\"_parent\"><img src=\"https://colab.research.google.com/assets/colab-badge.svg\" alt=\"Open In Colab\"/></a>"
      ]
    },
    {
      "cell_type": "markdown",
      "metadata": {
        "id": "zsHobPhC3ffd"
      },
      "source": [
        "\n",
        "## Mathematical functions that need coding\n",
        "![Find x](https://www.mathwarehouse.com/jokes/images/find-x-funny-math-image-joke.webp)\n",
        "\n",
        "**Now the statisticians are begging you to code ready-made math functions for them. Below are the functions they use most often. Code the functions in the cells below:**\n",
        "\n",
        "- Square of a number: Create a function that returns the square of a number.\n",
        "- Cube of a number: Create a function that returns the cube of a number.\n",
        "- Absolute value: Create a function that returns the absolute value of a number.\n",
        "- Factorial of a number: Create a function that returns the factorial of a number.\n",
        "- Mode of a list of numbers: Create a function that returns the mode of a list of numbers, for instance [68, 99, 65, 44, 77, 44, 44] --> 44.\n",
        "- Average of a list of numbers: Create a function that returns the average of a list of numbers.\n",
        "- Minimum of a list of numbers: Create a function that returns the minimum from within a list of numbers.\n",
        "- Maximum of a list of numbers: Create a function that returns the maximum from within a list of numbers.\n",
        "\n",
        "**Yes, all those functions already exist in dedicated modules, and you may not reuse them, unfortunately: you may only use loops, conditionals, basic structures, `len`, addition, subtraction, multiplication, division and powers.**\n",
        "\n",
        "**Don't forget to test your functions with at least two possible cases!**"
      ]
    },
    {
      "cell_type": "markdown",
      "source": [
        "Optional Question: Create a function that returns the mode of a list of numbers when more than one modal value is present in a given data set. For example [68, 68, 68, 99, 65, 44, 77, 44, 44] --> [68, 44]"
      ],
      "metadata": {
        "id": "l7a_3Ouqptmf"
      }
    },
    {
      "cell_type": "code",
      "source": [
        "#Square of a number: Create a function that returns the square of a number.\n",
        "\n",
        "def square(number):\n",
        "  result = number ** 2\n",
        "  return result\n",
        "\n",
        "square(9)"
      ],
      "metadata": {
        "id": "8Ox06Giyu9O7"
      },
      "execution_count": null,
      "outputs": []
    },
    {
      "cell_type": "code",
      "source": [
        "#Cube of a number: Create a function that returns the cube of a number.\n",
        "\n",
        "def cube(number) :\n",
        "  result = number ** 3\n",
        "  return result\n",
        "\n",
        "cube(5)"
      ],
      "metadata": {
        "id": "5SpKYXR7u-79"
      },
      "execution_count": null,
      "outputs": []
    },
    {
      "cell_type": "code",
      "source": [
        "#Absolute value: Create a function that returns the absolute value of a number.\n",
        "#cheat solution\n",
        "def absolute_value(number):\n",
        "  result = abs(number)\n",
        "  return result\n",
        "\n",
        "absolute_value(-5)\n"
      ],
      "metadata": {
        "id": "MR22FVYxu_Wj"
      },
      "execution_count": null,
      "outputs": []
    },
    {
      "cell_type": "code",
      "source": [
        "#Absolute value: Create a function that returns the absolute value of a number.\n",
        "#less cheat solution\n",
        "\n",
        "def absolute_value_2(number):\n",
        "  if number < 0 :\n",
        "    return -number\n",
        "  else :\n",
        "    return number\n",
        "\n",
        "absolute_value_2(-78)"
      ],
      "metadata": {
        "id": "fp5EBd1LvKsp"
      },
      "execution_count": null,
      "outputs": []
    },
    {
      "cell_type": "code",
      "source": [
        "#Factorial of a number: Create a function that returns the factorial of a number.\n",
        "\n",
        "def factorial(number):\n",
        "  counter = 1\n",
        "  for i in range(1, number + 1):\n",
        "    counter *= i\n",
        "  return counter \n",
        "\n",
        "factorial(4)"
      ],
      "metadata": {
        "id": "PlvaGYVcvO3M"
      },
      "execution_count": null,
      "outputs": []
    },
    {
      "cell_type": "code",
      "source": [
        "#Mode of a list of numbers: Create a function that returns the mode of a list of numbers.\n",
        "\n",
        "def mode_of_a_list(a_list):\n",
        "  mode = (max(set(a_list), key = a_list.count))\n",
        "  return mode\n",
        "\n",
        "mode_of_a_list([68,99,65,44,77,44,44])"
      ],
      "metadata": {
        "id": "69ofgwbTvKBQ"
      },
      "execution_count": null,
      "outputs": []
    },
    {
      "cell_type": "code",
      "source": [
        "#Average of a list of numbers: Create a function that returns the average of a list of numbers.\n",
        "\n",
        "def average_of_a_list(a_list):\n",
        "  total = 0\n",
        "  for i in a_list :\n",
        "    total = total + i\n",
        "  average = total / len(a_list)\n",
        "  return average\n",
        "\n",
        "average_of_a_list([1,6,7,8,5,10,11])\n"
      ],
      "metadata": {
        "id": "V4i90hDku_qB"
      },
      "execution_count": null,
      "outputs": []
    },
    {
      "cell_type": "code",
      "source": [
        "#Minimum of a list of numbers: Create a function that returns the minimum from within a list of numbers.\n",
        "\n",
        "def minimum_of_a_list(a_list):\n",
        "  new_list = sorted(a_list)\n",
        "  min = new_list[0]\n",
        "  return min\n",
        "\n",
        "minimum_of_a_list([6,8,4,6,2,5])\n"
      ],
      "metadata": {
        "id": "-ZBOQi82u_6H"
      },
      "execution_count": null,
      "outputs": []
    },
    {
      "cell_type": "code",
      "source": [
        "#Maximum of a list of numbers: Create a function that returns the maximum from within a list of numbers.\n",
        "\n",
        "def maximum_of_a_list(a_list):\n",
        "  new_list = sorted(a_list)\n",
        "  max = new_list[-1]\n",
        "  return max\n",
        "\n",
        "maximum_of_a_list([6,8,4,6,2,5,10])"
      ],
      "metadata": {
        "id": "05DMjXPJvgD9"
      },
      "execution_count": null,
      "outputs": []
    },
    {
      "cell_type": "code",
      "source": [
        "# Optional Question: Create a function that returns the mode of a list of numbers when more than one modal value is present in a given data set.\n",
        "# For example [68, 68, 68, 99, 65, 44, 77, 44, 44] --> [68, 44]\n",
        "\n",
        "### M-1\n",
        "import statistics\n",
        "statistics.multimode([68, 68, 68, 99, 65, 44, 77, 44, 44]) "
      ],
      "metadata": {
        "id": "9phwv9NvvALp"
      },
      "execution_count": null,
      "outputs": []
    },
    {
      "cell_type": "code",
      "source": [
        "### M-2\n",
        "from collections import Counter\n",
        "c = Counter([68, 68, 68, 99, 65, 44, 77, 44, 44])\n",
        "dico_counter = dict(c.most_common()) \n",
        "print(dico_counter)\n",
        "\n",
        "multimode = [key  for (key, value) in dico_counter.items() if value == max(dico_counter.values())]\n",
        "print(multimode)"
      ],
      "metadata": {
        "id": "fI-ebzxOvkrF"
      },
      "execution_count": null,
      "outputs": []
    }
  ]
}