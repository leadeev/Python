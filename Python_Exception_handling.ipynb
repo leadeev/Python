{
  "nbformat": 4,
  "nbformat_minor": 0,
  "metadata": {
    "colab": {
      "provenance": [],
      "include_colab_link": true
    },
    "kernelspec": {
      "name": "python3",
      "display_name": "Python 3"
    },
    "language_info": {
      "name": "python"
    }
  },
  "cells": [
    {
      "cell_type": "markdown",
      "metadata": {
        "id": "view-in-github",
        "colab_type": "text"
      },
      "source": [
        "<a href=\"https://colab.research.google.com/github/leadeev/Python/blob/main/Python_Exception_handling.ipynb\" target=\"_parent\"><img src=\"https://colab.research.google.com/assets/colab-badge.svg\" alt=\"Open In Colab\"/></a>"
      ]
    },
    {
      "cell_type": "markdown",
      "source": [
        "You must correct each of the scripts below **using exception handling** and **without modifying lists**."
      ],
      "metadata": {
        "id": "6ZBJoYqVB4cA"
      }
    },
    {
      "cell_type": "markdown",
      "source": [
        "Script number 1"
      ],
      "metadata": {
        "id": "iYDGp1yxB9Yj"
      }
    },
    {
      "cell_type": "code",
      "source": [
        "list_integers = [1, 12, -45, 6, 27, 0, 24]\n",
        "for i in list_integers:\n",
        "  try:\n",
        "    print(1/i)\n",
        "  except ZeroDivisionError:\n",
        "    i == 0\n",
        "    print(\"Warning, you are trying to divide by 0.\")"
      ],
      "metadata": {
        "colab": {
          "base_uri": "https://localhost:8080/"
        },
        "id": "H_9KqssUB-GW",
        "outputId": "94aa421c-62f8-4fd0-a20c-5d7add286c95"
      },
      "execution_count": null,
      "outputs": [
        {
          "output_type": "stream",
          "name": "stdout",
          "text": [
            "1.0\n",
            "0.08333333333333333\n",
            "-0.022222222222222223\n",
            "0.16666666666666666\n",
            "0.037037037037037035\n",
            "Warning, you are trying to divide by 0.\n",
            "0.041666666666666664\n"
          ]
        }
      ]
    },
    {
      "cell_type": "markdown",
      "source": [
        "Script number 2"
      ],
      "metadata": {
        "id": "MMVJMMROCF9D"
      }
    },
    {
      "cell_type": "code",
      "source": [
        "list_integers = [1, 12, -45, 6, 27, 24]\n",
        "for i in range(10):\n",
        "  try:  \n",
        "    print(1/list_integers[i])\n",
        "  except:\n",
        "    i > 5\n",
        "    print(f\"Warning, there is no {i}. position in the list. \")"
      ],
      "metadata": {
        "colab": {
          "base_uri": "https://localhost:8080/"
        },
        "id": "tQ--fq_qCGer",
        "outputId": "afb2b35d-fa1f-47e4-8153-060df0461a93"
      },
      "execution_count": null,
      "outputs": [
        {
          "output_type": "stream",
          "name": "stdout",
          "text": [
            "1.0\n",
            "0.08333333333333333\n",
            "-0.022222222222222223\n",
            "0.16666666666666666\n",
            "0.037037037037037035\n",
            "0.041666666666666664\n",
            "Warning, there is no 6. position in the list. \n",
            "Warning, there is no 7. position in the list. \n",
            "Warning, there is no 8. position in the list. \n",
            "Warning, there is no 9. position in the list. \n"
          ]
        }
      ]
    },
    {
      "cell_type": "markdown",
      "source": [
        "Script number 3"
      ],
      "metadata": {
        "id": "8UGbrsGpCMFt"
      }
    },
    {
      "cell_type": "code",
      "source": [
        "list_integers = [1, 12, -45, 6, 27, 0, 24]\n",
        "for i in range(10):\n",
        "  try:  \n",
        "    print(1/list_integers[i])\n",
        "  except ZeroDivisionError:\n",
        "    list_integers[i] = 0\n",
        "    print(\"Warning, you are trying to divide by 0.\")\n",
        "  except:\n",
        "    i > 7\n",
        "    print(f\"Warning, there is no {i}. position in the list. \")\n"
      ],
      "metadata": {
        "colab": {
          "base_uri": "https://localhost:8080/"
        },
        "id": "035ObzPJCM16",
        "outputId": "506b324f-ac18-41a9-9d7e-d4579f3f7fe5"
      },
      "execution_count": null,
      "outputs": [
        {
          "output_type": "stream",
          "name": "stdout",
          "text": [
            "1.0\n",
            "0.08333333333333333\n",
            "-0.022222222222222223\n",
            "0.16666666666666666\n",
            "0.037037037037037035\n",
            "Warning, you are trying to divide by 0.\n",
            "0.041666666666666664\n",
            "Warning, there is no 7. position in the list. \n",
            "Warning, there is no 8. position in the list. \n",
            "Warning, there is no 9. position in the list. \n"
          ]
        }
      ]
    },
    {
      "cell_type": "markdown",
      "source": [
        "Script number 4"
      ],
      "metadata": {
        "id": "FatcANzRCTQp"
      }
    },
    {
      "cell_type": "code",
      "source": [
        "list_words = ['hello', 'good morning', 'GOOD Evening', 34, 'Bye' ]\n",
        "\n",
        "for word in list_words:\n",
        "  try:\n",
        "    print(word.upper())\n",
        "  except:\n",
        "    type(word) == type(34)\n",
        "    print(\"Warning, this element is a number.\")"
      ],
      "metadata": {
        "colab": {
          "base_uri": "https://localhost:8080/"
        },
        "id": "8qHmwYKFCT_v",
        "outputId": "21ab89e0-a2cf-4d8b-cafc-b1d4db703bf0"
      },
      "execution_count": null,
      "outputs": [
        {
          "output_type": "stream",
          "name": "stdout",
          "text": [
            "HELLO\n",
            "GOOD MORNING\n",
            "GOOD EVENING\n",
            "Warning, this element is a number.\n",
            "BYE\n"
          ]
        }
      ]
    }
  ]
}