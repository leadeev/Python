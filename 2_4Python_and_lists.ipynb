{
  "nbformat": 4,
  "nbformat_minor": 0,
  "metadata": {
    "colab": {
      "provenance": [],
      "include_colab_link": true
    },
    "kernelspec": {
      "name": "python3",
      "display_name": "Python 3"
    }
  },
  "cells": [
    {
      "cell_type": "markdown",
      "metadata": {
        "id": "view-in-github",
        "colab_type": "text"
      },
      "source": [
        "<a href=\"https://colab.research.google.com/github/leadeev/Python/blob/main/2_4Python_and_lists.ipynb\" target=\"_parent\"><img src=\"https://colab.research.google.com/assets/colab-badge.svg\" alt=\"Open In Colab\"/></a>"
      ]
    },
    {
      "cell_type": "markdown",
      "source": [
        "**Preliminary note:** sometimes, the challenge tells you to do something that is incompatible with some input (for instance, you ask for a position but the user enters some text, or an invalid number).\n",
        "\n",
        "Here you can assume that all user input goes according to plan (the \"happy path\"). If you want an extra **optional** challenge, feel free to manage possible error cases!"
      ],
      "metadata": {
        "id": "1LeJKHt8Hd9O"
      }
    },
    {
      "cell_type": "markdown",
      "metadata": {
        "id": "LoJw-LlCTnWF"
      },
      "source": [
        "# Mission 1\n",
        "\n",
        "Define a list, then display only the elements (and their position) that have even positions (0, 2, 4, 6...).\n",
        "\n",
        "With `test_list = [\"a\", \"b\", \"c\", \"d\", \"e\"]`, the script should display: \n",
        "```\n",
        "a at position 0\n",
        "c at position 2\n",
        "e at position 4\n",
        "```"
      ]
    },
    {
      "cell_type": "code",
      "metadata": {
        "id": "C2Lk113KSPUO",
        "colab": {
          "base_uri": "https://localhost:8080/"
        },
        "outputId": "6f1f9a45-4c98-4949-dccb-9150375213de"
      },
      "source": [
        "test_liste = [\"a\", \"b\", \"c\", \"d\", \"e\"]\n",
        "for i in test_liste:\n",
        "  position = test_liste.index(i)\n",
        "  print(i ,\"est : \", position)\n",
        "\n",
        "  #correction\n",
        "\n",
        "  test_list = [\"a\", \"b\", \"c\", \"d\", \"e\"]\n",
        "\n",
        "for position, element in enumerate(test_list):\n",
        "  if position % 2 == 0:\n",
        "    print(element, 'at position', position)\n",
        "\n"
      ],
      "execution_count": null,
      "outputs": [
        {
          "output_type": "stream",
          "name": "stdout",
          "text": [
            "a at position 0\n",
            "c at position 2\n",
            "e at position 4\n"
          ]
        }
      ]
    },
    {
      "cell_type": "markdown",
      "metadata": {
        "id": "J3bsGIvAT049"
      },
      "source": [
        "# Mission 2\n",
        "\n",
        "Define a list, then **ask** for a position, then for a string. Then replace the list element at that position by the given string, and display the resulting list.\n",
        "\n",
        "For example, with the list `test_list2 = ['hello', 'good morning', 'bye bye', 'have a good day']`, the position `2` and the string `yeah`, you should display:\n",
        "```\n",
        "['hello', 'good morning', 'yeah', 'have a good day']\n",
        "```"
      ]
    },
    {
      "cell_type": "code",
      "source": [
        "test_liste2 = ['hello', 'good morning', 'bye bye', 'have a good day']\n",
        "pos = int(input(\"Choisis une position : \"))\n",
        "mot_a_remplacer = input(\"Choisis ton mot à remplacer : \")\n",
        "test_liste2[pos] = mot_a_remplacer\n",
        "print( test_liste2)\n"
      ],
      "metadata": {
        "id": "ZcA2Itz66y_a"
      },
      "execution_count": null,
      "outputs": []
    },
    {
      "cell_type": "markdown",
      "metadata": {
        "id": "dVl36lvlWLdV"
      },
      "source": [
        "# Mission 3\n",
        "\n",
        "Define a list with five numbers, then ask the user for a number. Put the number at the end of the list, remove the first element from the list, and finally display the list.\n",
        "\n",
        "For example, with the list `test_list3 = [1, 9, 6, 15, 4]` and the input `7`, you should display:\n",
        "```\n",
        "[9, 6, 15, 4, 7]\n",
        "```\n"
      ]
    },
    {
      "cell_type": "code",
      "source": [
        "\n",
        "#Définir une liste avec cinq numéros, puis demander à l'utilisateur un numéro. \n",
        "#Placez le nombre à la fin de la liste, supprimez le premier élément de la liste, et enfin affichez la liste.\n",
        "\n",
        "test_liste3 = [1, 9, 6, 15, 4]\n",
        "num = int(input(\"Choisir un nombre entier : \"))\n",
        "test_liste3.append(num)\n",
        "print(test_liste3)"
      ],
      "metadata": {
        "id": "0sVnDf9I1e1t"
      },
      "execution_count": null,
      "outputs": []
    },
    {
      "cell_type": "markdown",
      "metadata": {
        "id": "GCvpkWzXXPTf"
      },
      "source": [
        "# Mission 4\n",
        "\n",
        "Define a list, then ask the user for a string. Then, insert the string in the list at a random position, and display the resulting list.\n",
        "\n",
        "For example, with the list `test_list4 = [\"p\", \"y\", \"t\", \"h\", \"o\"]` and the input `n`, you *might* get:\n",
        "```\n",
        "[\"p\", \"n\", \"y\", \"t\", \"h\", \"o\"]\n",
        "```\n",
        "... but you might also get:\n",
        "```\n",
        "[\"p\", \"y\", \"t\", \"n\", \"h\", \"o\"]\n",
        "```\n"
      ]
    },
    {
      "cell_type": "code",
      "metadata": {
        "id": "QjLMjogySPk_"
      },
      "source": [
        "#Définissez une liste, puis demandez à l'utilisateur de saisir une chaîne de caractères. \n",
        "#Ensuite, insérez la chaîne dans la liste à une position aléatoire et affichez la liste résultante.\n",
        "\n",
        "import random\n",
        "lettre = input(\"Saisir une chaine de caractere : \")\n",
        "\n",
        "# Création d'une liste\n",
        "test_liste4 = [\"p\", \"y\", \"t\", \"h\", \"o\"]\n",
        "\n",
        "# Fonction qui permet d'ajouter une lettre dans la liste (la position est aléatoire)\n",
        "test_liste4.insert(random.randint(0, len(test_liste4)), lettre)\n",
        "\n",
        "\n",
        "print (test_liste4)"
      ],
      "execution_count": null,
      "outputs": []
    },
    {
      "cell_type": "markdown",
      "metadata": {
        "id": "Ygonr8C4pEgg"
      },
      "source": [
        "# Mission 5\n",
        "\n",
        "Create a list of integers. Then, display a list with the elements ordered from smallest to largest, using the right built-in function.\n",
        "\n",
        "With the list `test_list5 = [3, 4, 0, -1, 35, 7]`, this will display:\n",
        "```\n",
        "[-1, 0, 3, 4, 7, 35]\n",
        "```"
      ]
    },
    {
      "cell_type": "code",
      "source": [
        "#Créez une liste d'entiers. \n",
        "#Ensuite, affichez une liste dont les éléments sont classés du plus petit au plus grand\n",
        "#en utilisant la bonne fonction intégrée.\n",
        "\n",
        "test_list5 = [3, 4, 0, -1, 35, 7]\n",
        "print(sorted(test_list5))\n"
      ],
      "metadata": {
        "id": "KYW-riV7K3DA",
        "colab": {
          "base_uri": "https://localhost:8080/"
        },
        "outputId": "5bab89db-76df-491f-e676-126f0f56a55c"
      },
      "execution_count": null,
      "outputs": [
        {
          "output_type": "execute_result",
          "data": {
            "text/plain": [
              "[-1, 0, 3, 4, 7, 35]"
            ]
          },
          "metadata": {},
          "execution_count": 15
        }
      ]
    },
    {
      "cell_type": "markdown",
      "metadata": {
        "id": "V8ZS3aECXvuZ"
      },
      "source": [
        "# Mission 6\n",
        "\n",
        "Ask the user for a string, convert it to a list of characters with the `list` function, then ask for a single character.\n",
        "\n",
        "Remove the first occurrence of the character from the list, then display how many occurrences of the character remain in the list.\n",
        "\n",
        "For instance if you enter `\"Excellent work\"` then the letter `\"e\"`, it will display:\n",
        "```\n",
        "There are still 2 copies of e in the list\n",
        "```"
      ]
    },
    {
      "cell_type": "code",
      "metadata": {
        "id": "dlRdqxco5r8U"
      },
      "source": [
        "#Demander à l'utilisateur une chaîne de caractères, \n",
        "#la convertir en une liste de caractères avec la fonction list, puis demander un seul caractère.\n",
        "#Supprimez la première occurrence du caractère de la liste, \n",
        "#puis affichez le nombre d'occurrences du caractère restant dans la liste\n",
        "\n",
        "texte = input(\"Saisir une chaine de caractère : \")\n",
        "mylist = list(texte)\n",
        "car = input(\"choisir un seul caractère : \")\n",
        "\n",
        "del mylist[mylist.index(car)]\n",
        "count = 0\n",
        "for index, value in enumerate(mylist):\n",
        "  if value == car:\n",
        "    count += 1\n",
        "\n",
        "print(\"il reste :\", count, \"caractere(s) :\", car)\n",
        "print(mylist)"
      ],
      "execution_count": null,
      "outputs": []
    },
    {
      "cell_type": "markdown",
      "metadata": {
        "id": "geMLdrvAYHKx"
      },
      "source": [
        "# Mission 7\n",
        "\n",
        "Define three lists containing no duplicates. Then, indicate (however you like) the two that have the most elements in common (or all three if there's a tie).\n",
        "\n",
        "For instance, with:\n",
        "```\n",
        "list_a = [1, 2, 4, 8, 16, 32]\n",
        "list_b = [1, 2, 3, 5, 8, 13]\n",
        "list_c = [2, 3, 5, 7, 11, 13]\n",
        "```\n",
        "It may display:\n",
        "```\n",
        "Lists B and C have the most common elements!\n",
        "```"
      ]
    },
    {
      "cell_type": "code",
      "metadata": {
        "id": "1-cenx3RSPpq"
      },
      "source": [
        "\n",
        "#Définissez trois listes ne contenant aucun doublon. \n",
        "#Ensuite, indiquez (comme vous le souhaitez) les deux qui ont le plus d'éléments en commun \n",
        "#(ou les trois s'il y a égalité).\n",
        "\n",
        "# Création des listes\n",
        "list_a = [1, 2, 4, 8, 16, 32]\n",
        "list_b = [1, 2, 3, 5, 8, 13]\n",
        "list_c = [2, 3, 5, 7, 11, 13]\n",
        "\n",
        "result1 = []\n",
        "result2 = []\n",
        "result3 = []\n",
        "\n",
        "# Création de trois boucles pour les comparer entre-elles et resortir les chiffres en communs\n",
        "for i in list_a:\n",
        "  if i in list_b:\n",
        "    result1.append(i)\n",
        "\n",
        "for i in list_b:\n",
        "  if i in list_c:\n",
        "    result2.append(i)\n",
        "\n",
        "for i in list_a:\n",
        "  if i in list_c:\n",
        "    result3.append(i)\n",
        "\n",
        "# Condition comparant les résultats des boucles entre-elles pour savoir qu'elles listes ont le plus d'éléments en communs\n",
        "if len(result1) > len(result2) and len(result1) > len(result3):\n",
        "  print(\"Lists A and B have the most common elements!\")\n",
        "\n",
        "elif len(result2) > len(result1) and len(result2) > len(result3):\n",
        "  print(\"Lists B and C have the most common elements!\")\n",
        "\n",
        "elif len(result3) > len(result2) and len(result3) > len(result1):\n",
        "  print(\"Lists A and C have the most common elements!\")"
      ],
      "execution_count": null,
      "outputs": []
    }
  ]
}