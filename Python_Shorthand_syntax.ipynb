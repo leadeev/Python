{
  "nbformat": 4,
  "nbformat_minor": 0,
  "metadata": {
    "colab": {
      "provenance": [],
      "include_colab_link": true
    },
    "kernelspec": {
      "name": "python3",
      "display_name": "Python 3"
    },
    "language_info": {
      "name": "python"
    }
  },
  "cells": [
    {
      "cell_type": "markdown",
      "metadata": {
        "id": "view-in-github",
        "colab_type": "text"
      },
      "source": [
        "<a href=\"https://colab.research.google.com/github/leadeev/Python/blob/main/Python_Shorthand_syntax.ipynb\" target=\"_parent\"><img src=\"https://colab.research.google.com/assets/colab-badge.svg\" alt=\"Open In Colab\"/></a>"
      ]
    },
    {
      "cell_type": "markdown",
      "source": [
        "**Une fonction qui convertit des montants en dollars vers des montants en euros (prends le cours euro/dollar du jour où tu fais la quête).**"
      ],
      "metadata": {
        "id": "mfcqnVwRe8DI"
      }
    },
    {
      "cell_type": "code",
      "execution_count": null,
      "metadata": {
        "colab": {
          "base_uri": "https://localhost:8080/"
        },
        "id": "jbkUZrRlP46e",
        "outputId": "7f18aaef-330a-4ba6-efe8-88b8570e5a84"
      },
      "outputs": [
        {
          "output_type": "execute_result",
          "data": {
            "text/plain": [
              "20.4"
            ]
          },
          "metadata": {},
          "execution_count": 5
        }
      ],
      "source": [
        "euro = 1.02\n",
        "(lambda montant : montant*euro)(20)"
      ]
    },
    {
      "cell_type": "markdown",
      "source": [
        "**Une fonction qui renvoie la somme des nombres pairs présents dans une liste contenant des nombres entiers.**\n"
      ],
      "metadata": {
        "id": "Vmlwa1uYesuW"
      }
    },
    {
      "cell_type": "code",
      "source": [
        "# Première méthode\n",
        "\n",
        "list=[1, 2, 3, 4, 5, 6, 7, 8, 9, 10, 11, 12, 13, 14, 15, 16]\n",
        "\n",
        "sum([nombre for nombre in list if nombre %2 == 0])"
      ],
      "metadata": {
        "colab": {
          "base_uri": "https://localhost:8080/"
        },
        "id": "TaNteX1KQ38h",
        "outputId": "81310d45-c59f-46cf-e8a9-7e90b8333c1e"
      },
      "execution_count": 1,
      "outputs": [
        {
          "output_type": "execute_result",
          "data": {
            "text/plain": [
              "72"
            ]
          },
          "metadata": {},
          "execution_count": 1
        }
      ]
    },
    {
      "cell_type": "code",
      "source": [
        "# Deuxième methode\n",
        "\n",
        "sum(filter(lambda nombre: nombre % 2 == 0, list))"
      ],
      "metadata": {
        "colab": {
          "base_uri": "https://localhost:8080/"
        },
        "id": "cY_sApi8eY-W",
        "outputId": "62ed0278-8535-4366-b12d-e9542f0bfc3e"
      },
      "execution_count": null,
      "outputs": [
        {
          "output_type": "execute_result",
          "data": {
            "text/plain": [
              "72"
            ]
          },
          "metadata": {},
          "execution_count": 42
        }
      ]
    },
    {
      "cell_type": "markdown",
      "source": [
        "**Une fonction qui convertit une liste de nombres entiers positifs ou négatifs) en une nouvelle liste contenant leurs valeurs absolues.**"
      ],
      "metadata": {
        "id": "3kLfyqnmfIjf"
      }
    },
    {
      "cell_type": "code",
      "source": [
        "test_list = [0, 3, -6, 9, 12, -15, 18, -21, 24, 27]\n",
        "\n",
        "[abs(nombre) for nombre in test_list]\n",
        "\n"
      ],
      "metadata": {
        "colab": {
          "base_uri": "https://localhost:8080/"
        },
        "id": "zF0USA5JSmiJ",
        "outputId": "c87eb753-a8f8-4065-9963-650789552dd9"
      },
      "execution_count": null,
      "outputs": [
        {
          "output_type": "execute_result",
          "data": {
            "text/plain": [
              "[0, 3, 6, 9, 12, 15, 18, 21, 24, 27]"
            ]
          },
          "metadata": {},
          "execution_count": 43
        }
      ]
    }
  ]
}